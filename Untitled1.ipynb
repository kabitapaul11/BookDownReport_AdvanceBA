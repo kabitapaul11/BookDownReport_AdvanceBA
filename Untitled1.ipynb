{
  "nbformat": 4,
  "nbformat_minor": 0,
  "metadata": {
    "colab": {
      "name": "Untitled1.ipynb",
      "provenance": [],
      "collapsed_sections": [],
      "authorship_tag": "ABX9TyOPiyNrXex/QMN4CKntFqNh",
      "include_colab_link": true
    },
    "kernelspec": {
      "name": "python3",
      "display_name": "Python 3"
    }
  },
  "cells": [
    {
      "cell_type": "markdown",
      "metadata": {
        "id": "view-in-github",
        "colab_type": "text"
      },
      "source": [
        "<a href=\"https://colab.research.google.com/github/kabitapaul11/BookDownReport_AdvanceBA/blob/master/Untitled1.ipynb\" target=\"_parent\"><img src=\"https://colab.research.google.com/assets/colab-badge.svg\" alt=\"Open In Colab\"/></a>"
      ]
    },
    {
      "cell_type": "code",
      "metadata": {
        "id": "k-gxEcIfQtd6",
        "colab_type": "code",
        "colab": {}
      },
      "source": [
        ""
      ],
      "execution_count": 0,
      "outputs": []
    },
    {
      "cell_type": "code",
      "metadata": {
        "id": "gi9rJUTMQuxQ",
        "colab_type": "code",
        "colab": {
          "base_uri": "https://localhost:8080/",
          "height": 34
        },
        "outputId": "44f33cba-65c9-4035-c313-637d1c447dee"
      },
      "source": [
        "print(\"hello python\")"
      ],
      "execution_count": 1,
      "outputs": [
        {
          "output_type": "stream",
          "text": [
            "hello python\n"
          ],
          "name": "stdout"
        }
      ]
    },
    {
      "cell_type": "markdown",
      "metadata": {
        "id": "ti0ky_8xQx8b",
        "colab_type": "text"
      },
      "source": [
        "This is a sample"
      ]
    },
    {
      "cell_type": "markdown",
      "metadata": {
        "id": "LSKzMbDhaMUE",
        "colab_type": "text"
      },
      "source": [
        "![alt text](https://user-images.githubusercontent.com/49824704/73123682-55f8cb00-3f60-11ea-858b-d01572daaea8.PNG)\n"
      ]
    }
  ]
}